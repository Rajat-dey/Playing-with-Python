{
 "cells": [
  {
   "cell_type": "code",
   "execution_count": 1,
   "metadata": {},
   "outputs": [
    {
     "name": "stderr",
     "output_type": "stream",
     "text": [
      "C:\\ProgramData\\Anaconda3\\lib\\site-packages\\h5py\\__init__.py:36: FutureWarning: Conversion of the second argument of issubdtype from `float` to `np.floating` is deprecated. In future, it will be treated as `np.float64 == np.dtype(float).type`.\n",
      "  from ._conv import register_converters as _register_converters\n",
      "Using Theano backend.\n"
     ]
    }
   ],
   "source": [
    "from keras.datasets import fashion_mnist\n",
    "(train_X, train_Y), (test_X, test_Y) = fashion_mnist.load_data()"
   ]
  },
  {
   "cell_type": "code",
   "execution_count": 2,
   "metadata": {},
   "outputs": [
    {
     "name": "stdout",
     "output_type": "stream",
     "text": [
      "Training data shape: (60000, 28, 28) (60000,)\n",
      "Testing data shape: (10000, 28, 28) (10000,)\n"
     ]
    }
   ],
   "source": [
    "import numpy as np\n",
    "from keras.utils import to_categorical\n",
    "import matplotlib.pyplot as plt\n",
    "%matplotlib inline\n",
    "\n",
    "print('Training data shape:', train_X.shape, train_Y.shape)\n",
    "print('Testing data shape:', test_X.shape, test_Y.shape)\n"
   ]
  },
  {
   "cell_type": "code",
   "execution_count": 3,
   "metadata": {},
   "outputs": [
    {
     "name": "stdout",
     "output_type": "stream",
     "text": [
      "Total no of outputs 10\n",
      "Output classes [0 1 2 3 4 5 6 7 8 9]\n"
     ]
    }
   ],
   "source": [
    "classes = np.unique(train_Y)\n",
    "nClasses = len(classes)\n",
    "print('Total no of outputs', nClasses)\n",
    "print('Output classes', classes)"
   ]
  },
  {
   "cell_type": "code",
   "execution_count": 4,
   "metadata": {},
   "outputs": [
    {
     "data": {
      "text/plain": [
       "Text(0.5,1,'Ground Truth: 9')"
      ]
     },
     "execution_count": 4,
     "metadata": {},
     "output_type": "execute_result"
    },
    {
     "data": {
      "image/png": "[encoded data removed]",
      "text/plain": [
       "<matplotlib.figure.Figure at 0x1f350c392e8>"
      ]
     },
     "metadata": {},
     "output_type": "display_data"
    }
   ],
   "source": [
    "plt.figure(figsize=[6,6])\n",
    "#dispalying the first train image\n",
    "plt.subplot(121)\n",
    "plt.imshow(train_X[0,:,:], cmap='gray')\n",
    "plt.title(\"Ground Truth: {}\".format(train_Y[0]))\n",
    "#displaying the first test image\n",
    "plt.subplot(122)\n",
    "plt.imshow(test_X[0,:,:], cmap='gray')\n",
    "plt.title(\"Ground Truth: {}\".format(test_Y[0]))"
   ]
  },
  {
   "cell_type": "markdown",
   "metadata": {},
   "source": [
    "Data Processing"
   ]
  },
  {
   "cell_type": "code",
   "execution_count": 5,
   "metadata": {},
   "outputs": [
    {
     "data": {
      "text/plain": [
       "((60000, 28, 28, 1), (10000, 28, 28, 1))"
      ]
     },
     "execution_count": 5,
     "metadata": {},
     "output_type": "execute_result"
    }
   ],
   "source": [
    "train_X =train_X.reshape(-1,28,28,1)\n",
    "test_X =test_X.reshape(-1,28,28,1)\n",
    "train_X.shape, test_X.shape"
   ]
  },
  {
   "cell_type": "code",
   "execution_count": 6,
   "metadata": {},
   "outputs": [],
   "source": [
    "train_X=train_X.astype('float32')\n",
    "test_X=test_X.astype('float32')\n",
    "\n",
    "train_X = train_X / 255\n",
    "test_X= test_X / 255"
   ]
  },
  {
   "cell_type": "code",
   "execution_count": 7,
   "metadata": {},
   "outputs": [
    {
     "name": "stdout",
     "output_type": "stream",
     "text": [
      "Original Label: 9\n",
      "After conversion to one-hot: [0. 0. 0. 0. 0. 0. 0. 0. 0. 1.]\n"
     ]
    }
   ],
   "source": [
    "train_Y_one_hot = to_categorical(train_Y)\n",
    "test_Y_one_hot = to_categorical(test_Y)\n",
    "\n",
    "print('Original Label:', train_Y[0])\n",
    "print('After conversion to one-hot:', train_Y_one_hot[0])"
   ]
  },
  {
   "cell_type": "code",
   "execution_count": 8,
   "metadata": {},
   "outputs": [],
   "source": [
    "from sklearn.model_selection import train_test_split\n",
    "train_X,valid_X,train_label,valid_label = train_test_split(train_X,train_Y_one_hot, test_size=0.2, random_state=13)"
   ]
  },
  {
   "cell_type": "markdown",
   "metadata": {},
   "source": [
    "# model the data"
   ]
  },
  {
   "cell_type": "code",
   "execution_count": 9,
   "metadata": {},
   "outputs": [],
   "source": [
    "import keras\n",
    "from keras.models import Sequential, Input, Model\n",
    "from keras.layers import Dense, Dropout, Flatten\n",
    "from keras.layers import Conv2D, MaxPooling2D\n",
    "from keras.layers.normalization import BatchNormalization\n",
    "from keras.layers.advanced_activations import LeakyReLU\n",
    "\n",
    "batch_size =64\n",
    "epochs = 2\n",
    "num_classes =10"
   ]
  },
  {
   "cell_type": "code",
   "execution_count": 10,
   "metadata": {},
   "outputs": [],
   "source": [
    "fashion_model = Sequential()\n",
    "fashion_model.add(Conv2D(32, kernel_size=(3, 3), activation ='linear',data_format=\"channels_last\",input_shape=(28,28,1), padding='same'))\n",
    "fashion_model.add(LeakyReLU(alpha=0.1))\n",
    "fashion_model.add(MaxPooling2D((2,2), padding='same'))\n",
    "fashion_model.add(Conv2D(64, (3,3), activation ='linear', padding ='same'))\n",
    "fashion_model.add(LeakyReLU(alpha=0.1))\n",
    "fashion_model.add(MaxPooling2D(pool_size=(2,2), padding='same'))\n",
    "fashion_model.add(Conv2D(128, (3,3), activation='linear', padding='same'))\n",
    "fashion_model.add(LeakyReLU(alpha=0.1))\n",
    "fashion_model.add(MaxPooling2D(pool_size=(2,2),padding='same'))\n",
    "fashion_model.add(Flatten())\n",
    "fashion_model.add(Dense(128, activation='linear'))\n",
    "fashion_model.add(LeakyReLU(alpha=0.1))\n",
    "fashion_model.add(Dense(num_classes,activation='softmax'))\n"
   ]
  },
  {
   "cell_type": "code",
   "execution_count": 11,
   "metadata": {},
   "outputs": [],
   "source": [
    "fashion_model.compile(loss=keras.losses.categorical_crossentropy, optimizer=keras.optimizers.Adam(),metrics=['accuracy'])"
   ]
  },
  {
   "cell_type": "code",
   "execution_count": 12,
   "metadata": {},
   "outputs": [
    {
     "data": {
      "text/plain": [
       "[array([[[[-0.09945804,  0.0915065 ,  0.03485741,  0.08161819,\n",
       "            0.08119676,  0.07725154, -0.07746923, -0.0223191 ,\n",
       "           -0.05162062,  0.08703659,  0.04245423,  0.06205128,\n",
       "           -0.08285289, -0.09201675, -0.03784846,  0.13279815,\n",
       "            0.07207875,  0.04125308,  0.0090504 ,  0.0620718 ,\n",
       "           -0.02916222,  0.01322412, -0.00527263, -0.08186387,\n",
       "           -0.08391537, -0.10227016, -0.06112178, -0.08593874,\n",
       "            0.05368049,  0.05811486,  0.01558812,  0.01546992]],\n",
       " \n",
       "         [[-0.04137689,  0.0308729 , -0.08471477,  0.09032054,\n",
       "           -0.10671425, -0.12254865,  0.08711937,  0.12238993,\n",
       "            0.0037889 , -0.04131994,  0.04753834, -0.0656004 ,\n",
       "            0.08671738,  0.06353861,  0.09234776, -0.05339721,\n",
       "            0.00402781,  0.07460652, -0.06749061,  0.01039584,\n",
       "           -0.06269942, -0.05914698, -0.04248975,  0.01445159,\n",
       "           -0.0810686 , -0.02815664,  0.13802241, -0.13463986,\n",
       "           -0.05177849,  0.05462985, -0.07831627, -0.0373854 ]],\n",
       " \n",
       "         [[ 0.10120857, -0.05595601, -0.09047458, -0.12507756,\n",
       "           -0.10123153,  0.05401476,  0.08053511, -0.12788211,\n",
       "            0.0168844 , -0.07681486, -0.01785665,  0.04738487,\n",
       "           -0.05941412, -0.07878397, -0.11538964,  0.13698946,\n",
       "            0.11122657,  0.10447985, -0.07632389, -0.07568075,\n",
       "            0.13783465, -0.06521254, -0.07275087,  0.01431397,\n",
       "           -0.04614972,  0.01953591,  0.07980369,  0.06154512,\n",
       "            0.02423182, -0.04115222, -0.1169277 ,  0.08425424]]],\n",
       " \n",
       " \n",
       "        [[[-0.08584376, -0.00368258,  0.06804898, -0.04272546,\n",
       "           -0.1313429 , -0.03350981,  0.01296689,  0.02245896,\n",
       "           -0.11227748,  0.02677356,  0.0353359 ,  0.07053527,\n",
       "           -0.01405425,  0.00114265, -0.01670733, -0.06926099,\n",
       "           -0.13903858, -0.12788086,  0.13828842,  0.0927572 ,\n",
       "           -0.11113721,  0.10790204,  0.05482642, -0.00261877,\n",
       "           -0.04416109, -0.12705427, -0.02052067,  0.1249605 ,\n",
       "            0.00038075, -0.12081591, -0.06934853, -0.0222474 ]],\n",
       " \n",
       "         [[-0.07217614,  0.12194152,  0.1214648 ,  0.04753682,\n",
       "           -0.02703459,  0.13287638, -0.12359631, -0.07794374,\n",
       "           -0.10290596, -0.11753848, -0.02168737, -0.06047232,\n",
       "           -0.14178467,  0.11374386,  0.04309477,  0.13823415,\n",
       "           -0.02037293, -0.09032327, -0.03528399, -0.10412034,\n",
       "           -0.10006835,  0.06402774,  0.07136032,  0.01609094,\n",
       "            0.04942331,  0.04800197, -0.09057578, -0.12717612,\n",
       "           -0.12418555,  0.10233535,  0.06279077,  0.14168416]],\n",
       " \n",
       "         [[ 0.11133052,  0.10320017,  0.10073055,  0.00388789,\n",
       "            0.11269052, -0.11981533,  0.04668526, -0.04328858,\n",
       "           -0.02697733,  0.13758059, -0.00723211, -0.07190371,\n",
       "            0.00374287,  0.1102009 , -0.14125925, -0.05581926,\n",
       "           -0.02409938, -0.11838917,  0.10546297, -0.08293615,\n",
       "           -0.13804118,  0.04925409,  0.02976646,  0.03756236,\n",
       "           -0.08818024, -0.02973054,  0.04106247, -0.0329349 ,\n",
       "            0.01800823, -0.04657928, -0.12957637,  0.11254327]]],\n",
       " \n",
       " \n",
       "        [[[ 0.03579855, -0.11285061,  0.08453234, -0.10232786,\n",
       "            0.00059235,  0.12346683, -0.02969078, -0.10920084,\n",
       "           -0.13021788,  0.12425594, -0.01722177,  0.11690484,\n",
       "           -0.0066486 , -0.08884304,  0.01479405, -0.01593934,\n",
       "            0.13683917, -0.11688839, -0.1201755 , -0.07973067,\n",
       "            0.12499247,  0.06518428,  0.07829234, -0.08787064,\n",
       "           -0.13147789,  0.01627043,  0.05430833, -0.08930634,\n",
       "            0.11065187, -0.00802407,  0.06328663,  0.07082331]],\n",
       " \n",
       "         [[ 0.0491351 ,  0.05812286, -0.10942747,  0.02982584,\n",
       "           -0.10678133, -0.10616346,  0.12180333,  0.06526314,\n",
       "           -0.11486191, -0.02356356,  0.05178891,  0.13079996,\n",
       "           -0.14175028,  0.08821635,  0.00644599, -0.05946983,\n",
       "           -0.07813857, -0.09260748,  0.0098864 ,  0.12183036,\n",
       "            0.13484506, -0.05701764,  0.13709114, -0.09324437,\n",
       "           -0.12438665,  0.05505338,  0.03660862, -0.04078802,\n",
       "           -0.09343398,  0.14049338, -0.07238562, -0.02733412]],\n",
       " \n",
       "         [[ 0.1137331 ,  0.06802166, -0.03586421,  0.10895933,\n",
       "           -0.02198879, -0.10775571, -0.12320051, -0.03572392,\n",
       "           -0.11375444, -0.06626261, -0.01746144, -0.00839499,\n",
       "            0.03103878,  0.05816634,  0.09696172,  0.08503152,\n",
       "           -0.12977368,  0.04244785, -0.0458632 ,  0.0398659 ,\n",
       "            0.12249826, -0.09471332, -0.05494613,  0.11624958,\n",
       "            0.09225082, -0.12976813, -0.00937617,  0.13702635,\n",
       "            0.06451768, -0.02622056,  0.04830278,  0.03886357]]]],\n",
       "       dtype=float32),\n",
       " array([0., 0., 0., 0., 0., 0., 0., 0., 0., 0., 0., 0., 0., 0., 0., 0., 0.,\n",
       "        0., 0., 0., 0., 0., 0., 0., 0., 0., 0., 0., 0., 0., 0., 0.],\n",
       "       dtype=float32),\n",
       " array([[[[ 0.04954401, -0.08249744,  0.00928581, ..., -0.04256659,\n",
       "            0.02179515,  0.06868065],\n",
       "          [ 0.05465824,  0.08284251,  0.00461831, ...,  0.07264004,\n",
       "            0.01616039,  0.06993634],\n",
       "          [-0.00802624, -0.01283152, -0.07706035, ..., -0.01131199,\n",
       "            0.0282943 ,  0.03271011],\n",
       "          ...,\n",
       "          [-0.04183953, -0.01899286, -0.02693228, ...,  0.00931048,\n",
       "            0.05522022, -0.02062901],\n",
       "          [ 0.015558  , -0.04449276,  0.02680081, ...,  0.03575027,\n",
       "           -0.03749834, -0.06969646],\n",
       "          [ 0.043171  , -0.00749702, -0.05111138, ..., -0.06841233,\n",
       "           -0.06435777, -0.01855326]],\n",
       " \n",
       "         [[-0.03555238,  0.02308316,  0.03744739, ...,  0.02005175,\n",
       "            0.03863621,  0.03476179],\n",
       "          [-0.00653285, -0.05570189, -0.07402924, ...,  0.00708669,\n",
       "            0.02779429,  0.05143588],\n",
       "          [ 0.01604956,  0.01775716, -0.04863564, ...,  0.07284857,\n",
       "            0.01537406, -0.00977166],\n",
       "          ...,\n",
       "          [-0.0014706 ,  0.0651025 , -0.0666717 , ..., -0.00603358,\n",
       "           -0.06283838, -0.00353578],\n",
       "          [ 0.02972112, -0.0085854 , -0.06617169, ..., -0.03550635,\n",
       "           -0.05414111, -0.06295101],\n",
       "          [ 0.02566288,  0.06174091, -0.07205335, ..., -0.08056778,\n",
       "            0.05469752,  0.03305888]],\n",
       " \n",
       "         [[ 0.07485519, -0.01817808,  0.05427188, ...,  0.05614994,\n",
       "            0.0191837 ,  0.02142161],\n",
       "          [ 0.02379772,  0.05536253, -0.08033727, ...,  0.009228  ,\n",
       "            0.01664609, -0.025803  ],\n",
       "          [ 0.03431601, -0.04861632, -0.08041053, ...,  0.01610405,\n",
       "            0.06372298,  0.07043416],\n",
       "          ...,\n",
       "          [ 0.0038391 ,  0.00585546,  0.07086349, ..., -0.01594145,\n",
       "           -0.01039949, -0.0700009 ],\n",
       "          [-0.05291637, -0.04420268, -0.05606926, ...,  0.07493096,\n",
       "           -0.05240868,  0.00467577],\n",
       "          [-0.06744291, -0.00438746,  0.00289932, ..., -0.0763031 ,\n",
       "            0.00206661, -0.03484694]]],\n",
       " \n",
       " \n",
       "        [[[-0.07696749, -0.07827969,  0.06255165, ...,  0.0734758 ,\n",
       "           -0.06112043, -0.07104167],\n",
       "          [-0.04691822,  0.01094859,  0.0411533 , ..., -0.07277252,\n",
       "            0.00365651,  0.02969537],\n",
       "          [-0.05243003, -0.03705078,  0.05158163, ..., -0.06109278,\n",
       "            0.03808149, -0.06717075],\n",
       "          ...,\n",
       "          [-0.03261794, -0.05577771,  0.01160982, ...,  0.05854521,\n",
       "            0.07262289,  0.0580428 ],\n",
       "          [-0.04067279,  0.03063848, -0.05978579, ...,  0.01593823,\n",
       "            0.01371182,  0.02098468],\n",
       "          [-0.00445371, -0.02733885, -0.07862759, ...,  0.04525232,\n",
       "           -0.04307069, -0.03282874]],\n",
       " \n",
       "         [[-0.04566715,  0.07184383,  0.02089622, ...,  0.00983542,\n",
       "           -0.02622759, -0.01217163],\n",
       "          [ 0.0054813 , -0.02598926,  0.06143894, ...,  0.0194765 ,\n",
       "           -0.0139019 , -0.04844615],\n",
       "          [ 0.02875074, -0.04631294,  0.07237633, ...,  0.04897269,\n",
       "            0.04414982,  0.05706584],\n",
       "          ...,\n",
       "          [-0.01869737, -0.0426571 ,  0.0077385 , ...,  0.05606008,\n",
       "           -0.02787813,  0.00412884],\n",
       "          [-0.07613697,  0.04255205,  0.07624754, ..., -0.0446719 ,\n",
       "            0.08150492,  0.02557653],\n",
       "          [ 0.07904191, -0.03264485, -0.02735916, ..., -0.08178837,\n",
       "            0.03126386,  0.04522105]],\n",
       " \n",
       "         [[ 0.04899838,  0.05340565,  0.0312608 , ...,  0.05329797,\n",
       "           -0.03878238,  0.06153352],\n",
       "          [-0.05250621,  0.05035972, -0.01360261, ..., -0.01499548,\n",
       "            0.069639  ,  0.02564178],\n",
       "          [-0.07899547, -0.06503119, -0.0042465 , ..., -0.04210529,\n",
       "           -0.07293835, -0.05599917],\n",
       "          ...,\n",
       "          [-0.07643861,  0.01997123,  0.04083568, ..., -0.04990585,\n",
       "           -0.00937369,  0.02999488],\n",
       "          [-0.06380835,  0.07250626,  0.07004728, ...,  0.0473055 ,\n",
       "            0.02274337, -0.03116722],\n",
       "          [ 0.03312021, -0.05348102,  0.06266191, ...,  0.04254941,\n",
       "            0.08070227,  0.02937853]]],\n",
       " \n",
       " \n",
       "        [[[ 0.03920823,  0.07658891,  0.00019803, ..., -0.04351578,\n",
       "           -0.06053514,  0.01768091],\n",
       "          [ 0.00081914,  0.04228615, -0.01889033, ..., -0.01382739,\n",
       "           -0.01286481, -0.02193196],\n",
       "          [-0.02300594, -0.02420698, -0.04110383, ..., -0.03663471,\n",
       "           -0.0417692 , -0.03498664],\n",
       "          ...,\n",
       "          [-0.00931916, -0.044878  ,  0.03543216, ..., -0.00261433,\n",
       "            0.00734797, -0.01590321],\n",
       "          [ 0.04865623, -0.01313344, -0.01922219, ...,  0.07148664,\n",
       "            0.05563477, -0.05502118],\n",
       "          [-0.04042246, -0.0398442 , -0.07359226, ..., -0.00392773,\n",
       "            0.0107178 , -0.01097059]],\n",
       " \n",
       "         [[-0.0011941 ,  0.04589307,  0.00557318, ...,  0.00432822,\n",
       "           -0.00147228,  0.02090368],\n",
       "          [-0.00984126,  0.02880722, -0.02583365, ...,  0.03017695,\n",
       "            0.05755296,  0.01559483],\n",
       "          [ 0.07035416, -0.01447266,  0.03621951, ..., -0.06241407,\n",
       "            0.00456373,  0.04233436],\n",
       "          ...,\n",
       "          [-0.00091437,  0.04329628,  0.06608846, ..., -0.05079767,\n",
       "           -0.06695237,  0.05834187],\n",
       "          [-0.08157207,  0.07088713,  0.00128029, ..., -0.06382662,\n",
       "            0.02699258, -0.0244202 ],\n",
       "          [ 0.06524468,  0.01168602, -0.05075923, ..., -0.02004807,\n",
       "            0.06038488, -0.08173792]],\n",
       " \n",
       "         [[ 0.07657067, -0.01215861,  0.03917906, ..., -0.01305061,\n",
       "           -0.03314319, -0.02609421],\n",
       "          [ 0.05971802,  0.07132313, -0.03637498, ...,  0.06145907,\n",
       "           -0.06563534,  0.08058985],\n",
       "          [ 0.013616  , -0.07938883,  0.07535917, ...,  0.06684179,\n",
       "           -0.07759875,  0.05301813],\n",
       "          ...,\n",
       "          [-0.04382371,  0.05019585,  0.01672989, ..., -0.04132665,\n",
       "            0.00448659, -0.05588277],\n",
       "          [ 0.01809625, -0.00146977,  0.05133059, ...,  0.08094303,\n",
       "            0.0478302 ,  0.0493587 ],\n",
       "          [-0.00297152,  0.0509946 , -0.07983173, ...,  0.01632611,\n",
       "            0.03708444, -0.07420354]]]], dtype=float32),\n",
       " array([0., 0., 0., 0., 0., 0., 0., 0., 0., 0., 0., 0., 0., 0., 0., 0., 0.,\n",
       "        0., 0., 0., 0., 0., 0., 0., 0., 0., 0., 0., 0., 0., 0., 0., 0., 0.,\n",
       "        0., 0., 0., 0., 0., 0., 0., 0., 0., 0., 0., 0., 0., 0., 0., 0., 0.,\n",
       "        0., 0., 0., 0., 0., 0., 0., 0., 0., 0., 0., 0., 0.], dtype=float32),\n",
       " array([[[[ 0.01437951, -0.04525401, -0.0298059 , ...,  0.01092638,\n",
       "            0.02830605, -0.02525938],\n",
       "          [ 0.02034145,  0.05261293,  0.03899839, ...,  0.0522124 ,\n",
       "            0.03434562, -0.04409359],\n",
       "          [ 0.0478693 , -0.01962609,  0.03062271, ..., -0.00251991,\n",
       "            0.02132187, -0.02066358],\n",
       "          ...,\n",
       "          [-0.03690154,  0.04492432,  0.02436117, ..., -0.04253096,\n",
       "            0.01950949,  0.00665072],\n",
       "          [ 0.03647072,  0.05101523,  0.02971955, ...,  0.0281286 ,\n",
       "           -0.03267075,  0.01763195],\n",
       "          [ 0.05315256, -0.00063463,  0.047806  , ..., -0.02874169,\n",
       "            0.01344298,  0.00193203]],\n",
       " \n",
       "         [[ 0.03358043,  0.05140955,  0.02809643, ...,  0.04569675,\n",
       "           -0.04125962,  0.02470677],\n",
       "          [-0.04988264, -0.04231526, -0.01502889, ..., -0.02440792,\n",
       "            0.01214445, -0.05804944],\n",
       "          [ 0.00513472, -0.028335  , -0.04001584, ...,  0.04793103,\n",
       "           -0.0115797 , -0.03221395],\n",
       "          ...,\n",
       "          [ 0.0032416 , -0.00877472,  0.02842289, ..., -0.04013704,\n",
       "            0.03891047,  0.03700588],\n",
       "          [-0.04520576,  0.03825991, -0.05719246, ...,  0.05433044,\n",
       "            0.00708772, -0.00892808],\n",
       "          [ 0.04487738, -0.05105444,  0.02355387, ..., -0.01955391,\n",
       "            0.05532918,  0.02845889]],\n",
       " \n",
       "         [[ 0.0042106 , -0.03303618, -0.03387321, ...,  0.03418798,\n",
       "           -0.00950913,  0.0242119 ],\n",
       "          [ 0.0114556 ,  0.03586316, -0.05377021, ...,  0.00120619,\n",
       "            0.02181862, -0.03589883],\n",
       "          [ 0.03970948, -0.00666968, -0.01255237, ..., -0.0146644 ,\n",
       "           -0.00481094,  0.04488674],\n",
       "          ...,\n",
       "          [ 0.03845326, -0.02730808,  0.01006708, ...,  0.04091882,\n",
       "           -0.04566316, -0.02865742],\n",
       "          [-0.03257863,  0.00070614,  0.03806144, ..., -0.05811044,\n",
       "            0.01650385,  0.05330151],\n",
       "          [-0.03030524, -0.0166361 , -0.00925598, ..., -0.0306728 ,\n",
       "            0.04296647,  0.00794898]]],\n",
       " \n",
       " \n",
       "        [[[ 0.01393722, -0.00603943, -0.04307842, ..., -0.05071741,\n",
       "            0.00027425, -0.02301889],\n",
       "          [-0.04825315, -0.01911368,  0.01482195, ..., -0.0408062 ,\n",
       "           -0.01020245,  0.00697667],\n",
       "          [-0.0116512 ,  0.01362374,  0.05107801, ..., -0.04329224,\n",
       "           -0.01989496,  0.03722586],\n",
       "          ...,\n",
       "          [-0.00822683,  0.03690778, -0.05857122, ..., -0.05313089,\n",
       "            0.00208569, -0.00893923],\n",
       "          [ 0.01364471, -0.04375013, -0.05594254, ...,  0.0476262 ,\n",
       "           -0.04836202,  0.03960269],\n",
       "          [ 0.0342483 , -0.00268637, -0.0221942 , ..., -0.04999483,\n",
       "           -0.00078861,  0.00025944]],\n",
       " \n",
       "         [[ 0.00866309,  0.03652963,  0.03696479, ...,  0.05686005,\n",
       "           -0.03772296,  0.02243169],\n",
       "          [-0.04952993,  0.01679691,  0.00635643, ...,  0.04379097,\n",
       "            0.01179231, -0.01623109],\n",
       "          [-0.04573898,  0.03330756,  0.04245435, ..., -0.05157868,\n",
       "           -0.02340902,  0.03596025],\n",
       "          ...,\n",
       "          [ 0.01918396, -0.05484655, -0.04839491, ...,  0.01347208,\n",
       "            0.01080958, -0.02920432],\n",
       "          [ 0.05798603, -0.01996804,  0.01193452, ..., -0.02735703,\n",
       "           -0.04643597,  0.04764603],\n",
       "          [ 0.0441282 ,  0.01340519, -0.00070002, ..., -0.02666072,\n",
       "           -0.00624842, -0.0507225 ]],\n",
       " \n",
       "         [[-0.02205727, -0.01788046, -0.05866099, ...,  0.04012476,\n",
       "           -0.05825556,  0.04273628],\n",
       "          [-0.04185461,  0.00946082, -0.02573504, ...,  0.05047758,\n",
       "            0.00932204,  0.02939161],\n",
       "          [-0.01666235,  0.01141204, -0.05386755, ..., -0.00136472,\n",
       "            0.00868737,  0.00064265],\n",
       "          ...,\n",
       "          [-0.01051237,  0.0223967 , -0.0208926 , ...,  0.0309428 ,\n",
       "           -0.05648355,  0.05701244],\n",
       "          [ 0.03316118, -0.04214527,  0.02892317, ...,  0.01934837,\n",
       "           -0.05600884,  0.01373215],\n",
       "          [-0.02326116, -0.01993075,  0.04822405, ..., -0.04875148,\n",
       "           -0.01444762, -0.04180558]]],\n",
       " \n",
       " \n",
       "        [[[ 0.00729262, -0.01294781,  0.02937712, ...,  0.03702717,\n",
       "           -0.01981093,  0.00166668],\n",
       "          [ 0.04991917, -0.02126348,  0.05291923, ..., -0.01000966,\n",
       "            0.02587947, -0.0455166 ],\n",
       "          [ 0.01606726,  0.01295676, -0.00822377, ...,  0.04609438,\n",
       "           -0.00520388, -0.05152521],\n",
       "          ...,\n",
       "          [-0.02245252,  0.03977138,  0.03602198, ..., -0.03449863,\n",
       "            0.01857785,  0.04257361],\n",
       "          [-0.05113205, -0.00635243, -0.01353293, ..., -0.05674382,\n",
       "           -0.03006374,  0.03941966],\n",
       "          [-0.05863282, -0.01479769, -0.01600023, ..., -0.01985928,\n",
       "           -0.03625296,  0.01804366]],\n",
       " \n",
       "         [[ 0.01590505, -0.05689283, -0.0194496 , ...,  0.05318279,\n",
       "           -0.01825027,  0.04566194],\n",
       "          [-0.03565916,  0.03291002,  0.0177496 , ...,  0.00766129,\n",
       "            0.02089911, -0.05281001],\n",
       "          [ 0.05307051,  0.03199258,  0.03932241, ..., -0.05807685,\n",
       "           -0.03554548, -0.05180317],\n",
       "          ...,\n",
       "          [ 0.02632098, -0.02361259, -0.02840658, ...,  0.00283963,\n",
       "            0.05607656,  0.00983867],\n",
       "          [-0.04687551,  0.01221777, -0.05579289, ..., -0.01847055,\n",
       "            0.05519575, -0.00682775],\n",
       "          [ 0.03985072,  0.00242689,  0.02852197, ..., -0.02589844,\n",
       "           -0.03708327,  0.02068016]],\n",
       " \n",
       "         [[-0.05475101,  0.02180928, -0.0387393 , ..., -0.00203488,\n",
       "           -0.04745188, -0.0053643 ],\n",
       "          [-0.03404571, -0.04972295,  0.03472228, ...,  0.05739616,\n",
       "           -0.05349252, -0.0544775 ],\n",
       "          [-0.04609074, -0.05147814,  0.04842249, ...,  0.02298609,\n",
       "           -0.04652845,  0.02730027],\n",
       "          ...,\n",
       "          [-0.00584091, -0.02443621,  0.00615042, ...,  0.0076839 ,\n",
       "            0.01470752,  0.02025678],\n",
       "          [ 0.05440193,  0.0102005 ,  0.03750965, ..., -0.02686738,\n",
       "           -0.02977314, -0.031338  ],\n",
       "          [-0.02574364,  0.02956017, -0.05554676, ...,  0.0258753 ,\n",
       "           -0.00286783,  0.01697146]]]], dtype=float32),\n",
       " array([0., 0., 0., 0., 0., 0., 0., 0., 0., 0., 0., 0., 0., 0., 0., 0., 0.,\n",
       "        0., 0., 0., 0., 0., 0., 0., 0., 0., 0., 0., 0., 0., 0., 0., 0., 0.,\n",
       "        0., 0., 0., 0., 0., 0., 0., 0., 0., 0., 0., 0., 0., 0., 0., 0., 0.,\n",
       "        0., 0., 0., 0., 0., 0., 0., 0., 0., 0., 0., 0., 0., 0., 0., 0., 0.,\n",
       "        0., 0., 0., 0., 0., 0., 0., 0., 0., 0., 0., 0., 0., 0., 0., 0., 0.,\n",
       "        0., 0., 0., 0., 0., 0., 0., 0., 0., 0., 0., 0., 0., 0., 0., 0., 0.,\n",
       "        0., 0., 0., 0., 0., 0., 0., 0., 0., 0., 0., 0., 0., 0., 0., 0., 0.,\n",
       "        0., 0., 0., 0., 0., 0., 0., 0., 0.], dtype=float32),\n",
       " array([[-0.03293492,  0.03731779,  0.01190604, ..., -0.04185057,\n",
       "          0.02987177,  0.00402585],\n",
       "        [-0.01081318, -0.03278883, -0.01300256, ...,  0.01963356,\n",
       "         -0.03251185,  0.03587627],\n",
       "        [-0.03357008, -0.05162136, -0.03101698, ..., -0.05108765,\n",
       "         -0.02087739, -0.00311375],\n",
       "        ...,\n",
       "        [ 0.00054264, -0.03275298,  0.04912246, ...,  0.01163967,\n",
       "          0.00772496,  0.03128775],\n",
       "        [-0.0158951 , -0.0389621 ,  0.03650017, ..., -0.05119949,\n",
       "         -0.04950717,  0.03125383],\n",
       "        [ 0.03537591, -0.0346869 ,  0.03373082, ...,  0.05087205,\n",
       "         -0.00524117,  0.00090476]], dtype=float32),\n",
       " array([0., 0., 0., 0., 0., 0., 0., 0., 0., 0., 0., 0., 0., 0., 0., 0., 0.,\n",
       "        0., 0., 0., 0., 0., 0., 0., 0., 0., 0., 0., 0., 0., 0., 0., 0., 0.,\n",
       "        0., 0., 0., 0., 0., 0., 0., 0., 0., 0., 0., 0., 0., 0., 0., 0., 0.,\n",
       "        0., 0., 0., 0., 0., 0., 0., 0., 0., 0., 0., 0., 0., 0., 0., 0., 0.,\n",
       "        0., 0., 0., 0., 0., 0., 0., 0., 0., 0., 0., 0., 0., 0., 0., 0., 0.,\n",
       "        0., 0., 0., 0., 0., 0., 0., 0., 0., 0., 0., 0., 0., 0., 0., 0., 0.,\n",
       "        0., 0., 0., 0., 0., 0., 0., 0., 0., 0., 0., 0., 0., 0., 0., 0., 0.,\n",
       "        0., 0., 0., 0., 0., 0., 0., 0., 0.], dtype=float32),\n",
       " array([[-0.07176894,  0.04993813,  0.03164345, ...,  0.18220748,\n",
       "          0.00664088, -0.00181679],\n",
       "        [-0.00256066, -0.00238599, -0.08734618, ..., -0.0171812 ,\n",
       "         -0.03931847,  0.0787221 ],\n",
       "        [ 0.04753242,  0.17916413, -0.1286299 , ...,  0.1600023 ,\n",
       "          0.17720328, -0.01436117],\n",
       "        ...,\n",
       "        [ 0.14997764, -0.04723921, -0.11322422, ...,  0.00477669,\n",
       "          0.05158313,  0.07932065],\n",
       "        [ 0.00611013, -0.01890557, -0.00687155, ..., -0.16725798,\n",
       "          0.09723188, -0.15509221],\n",
       "        [ 0.19716819, -0.1721927 , -0.02634601, ..., -0.12614861,\n",
       "         -0.16479035, -0.14738505]], dtype=float32),\n",
       " array([0., 0., 0., 0., 0., 0., 0., 0., 0., 0.], dtype=float32)]"
      ]
     },
     "execution_count": 12,
     "metadata": {},
     "output_type": "execute_result"
    }
   ],
   "source": [
    "fashion_model.get_weights()"
   ]
  },
  {
   "cell_type": "code",
   "execution_count": 13,
   "metadata": {},
   "outputs": [
    {
     "name": "stdout",
     "output_type": "stream",
     "text": [
      "_________________________________________________________________\n",
      "Layer (type)                 Output Shape              Param #   \n",
      "=================================================================\n",
      "conv2d_1 (Conv2D)            (None, 28, 28, 32)        320       \n",
      "_________________________________________________________________\n",
      "leaky_re_lu_1 (LeakyReLU)    (None, 28, 28, 32)        0         \n",
      "_________________________________________________________________\n",
      "max_pooling2d_1 (MaxPooling2 (None, 14, 14, 32)        0         \n",
      "_________________________________________________________________\n",
      "conv2d_2 (Conv2D)            (None, 14, 14, 64)        18496     \n",
      "_________________________________________________________________\n",
      "leaky_re_lu_2 (LeakyReLU)    (None, 14, 14, 64)        0         \n",
      "_________________________________________________________________\n",
      "max_pooling2d_2 (MaxPooling2 (None, 7, 7, 64)          0         \n",
      "_________________________________________________________________\n",
      "conv2d_3 (Conv2D)            (None, 7, 7, 128)         73856     \n",
      "_________________________________________________________________\n",
      "leaky_re_lu_3 (LeakyReLU)    (None, 7, 7, 128)         0         \n",
      "_________________________________________________________________\n",
      "max_pooling2d_3 (MaxPooling2 (None, 4, 4, 128)         0         \n",
      "_________________________________________________________________\n",
      "flatten_1 (Flatten)          (None, 2048)              0         \n",
      "_________________________________________________________________\n",
      "dense_1 (Dense)              (None, 128)               262272    \n",
      "_________________________________________________________________\n",
      "leaky_re_lu_4 (LeakyReLU)    (None, 128)               0         \n",
      "_________________________________________________________________\n",
      "dense_2 (Dense)              (None, 10)                1290      \n",
      "=================================================================\n",
      "Total params: 356,234\n",
      "Trainable params: 356,234\n",
      "Non-trainable params: 0\n",
      "_________________________________________________________________\n"
     ]
    }
   ],
   "source": [
    "fashion_model.summary()"
   ]
  },
  {
   "cell_type": "code",
   "execution_count": 14,
   "metadata": {
    "scrolled": false
   },
   "outputs": [
    {
     "name": "stdout",
     "output_type": "stream",
     "text": [
      "Train on 48000 samples, validate on 12000 samples\n",
      "Epoch 1/2\n",
      "48000/48000 [==============================] - 206s 4ms/step - loss: 0.4703 - acc: 0.8297 - val_loss: 0.3449 - val_acc: 0.8766\n",
      "Epoch 2/2\n",
      "48000/48000 [==============================] - 204s 4ms/step - loss: 0.2963 - acc: 0.8909 - val_loss: 0.3134 - val_acc: 0.8858\n"
     ]
    }
   ],
   "source": [
    "fashion_train = fashion_model.fit(train_X, train_label, batch_size=batch_size,epochs =epochs, verbose=1, validation_data=(valid_X,valid_label))"
   ]
  },
  {
   "cell_type": "code",
   "execution_count": 15,
   "metadata": {},
   "outputs": [],
   "source": [
    "test_eval = fashion_model.evaluate(test_X, test_Y_one_hot, verbose=0)"
   ]
  },
  {
   "cell_type": "code",
   "execution_count": 16,
   "metadata": {},
   "outputs": [
    {
     "name": "stdout",
     "output_type": "stream",
     "text": [
      "Test loss: 0.32280341728925704\n",
      "Test accuracy: 0.8783\n"
     ]
    }
   ],
   "source": [
    "print('Test loss:', test_eval[0])\n",
    "print('Test accuracy:', test_eval[1])"
   ]
  },
  {
   "cell_type": "code",
   "execution_count": 17,
   "metadata": {},
   "outputs": [
    {
     "data": {
      "image/png": "[encoded data removed]",
      "text/plain": [
       "<matplotlib.figure.Figure at 0x1f35cd7cd30>"
      ]
     },
     "metadata": {},
     "output_type": "display_data"
    },
    {
     "data": {
      "image/png": "[encoded data removed]",
      "text/plain": [
       "<matplotlib.figure.Figure at 0x1f35cd9c7f0>"
      ]
     },
     "metadata": {},
     "output_type": "display_data"
    }
   ],
   "source": [
    "accuracy= fashion_train.history['acc']\n",
    "val_accuracy = fashion_train.history['val_acc']\n",
    "loss = fashion_train.history['loss']\n",
    "val_loss = fashion_train.history['val_loss']\n",
    "epochs = range(len(accuracy))\n",
    "plt.plot(epochs, accuracy, 'bo', label='Training accuracy')\n",
    "plt.plot(epochs, val_accuracy, 'b', label='validation accuracy')\n",
    "plt.title('Training and validation accuracy')\n",
    "plt.legend()\n",
    "plt.figure()\n",
    "plt.plot(epochs, loss,'bo', label='Training loss')\n",
    "plt.plot(epochs, val_loss, 'b', label='validation loss')\n",
    "plt.title('Training and validation loss')\n",
    "plt.legend()\n",
    "plt.show()"
   ]
  },
  {
   "cell_type": "code",
   "execution_count": null,
   "metadata": {},
   "outputs": [],
   "source": []
  }
 ],
 "metadata": {
  "kernelspec": {
   "display_name": "Python 3",
   "language": "python",
   "name": "python3"
  },
  "language_info": {
   "codemirror_mode": {
    "name": "ipython",
    "version": 3
   },
   "file_extension": ".py",
   "mimetype": "text/x-python",
   "name": "python",
   "nbconvert_exporter": "python",
   "pygments_lexer": "ipython3",
   "version": "3.6.5"
  }
 },
 "nbformat": 4,
 "nbformat_minor": 2
}
